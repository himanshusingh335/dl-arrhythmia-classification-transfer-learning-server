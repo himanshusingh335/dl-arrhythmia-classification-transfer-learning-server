{
  "cells": [
    {
      "cell_type": "markdown",
      "metadata": {
        "id": "bafdjUJ0BkM0"
      },
      "source": [
        "# 8.4 Backend Code"
      ]
    },
    {
      "cell_type": "code",
      "execution_count": null,
      "metadata": {
        "colab": {
          "base_uri": "https://localhost:8080/"
        },
        "id": "CIkwQOQ2GSAW",
        "outputId": "c524f2a0-2e85-47e7-df23-7745f96094d9"
      },
      "outputs": [
        {
          "name": "stdout",
          "output_type": "stream",
          "text": [
            "Looking in indexes: https://pypi.org/simple, https://us-python.pkg.dev/colab-wheels/public/simple/\n",
            "Collecting pyngrok\n",
            "  Downloading pyngrok-6.0.0.tar.gz (681 kB)\n",
            "\u001b[2K     \u001b[90m━━━━━━━━━━━━━━━━━━━━━━━━━━━━━━━━━━━━━━\u001b[0m \u001b[32m681.2/681.2 kB\u001b[0m \u001b[31m11.1 MB/s\u001b[0m eta \u001b[36m0:00:00\u001b[0m\n",
            "\u001b[?25h  Preparing metadata (setup.py) ... \u001b[?25l\u001b[?25hdone\n",
            "Requirement already satisfied: PyYAML in /usr/local/lib/python3.10/dist-packages (from pyngrok) (6.0)\n",
            "Building wheels for collected packages: pyngrok\n",
            "  Building wheel for pyngrok (setup.py) ... \u001b[?25l\u001b[?25hdone\n",
            "  Created wheel for pyngrok: filename=pyngrok-6.0.0-py3-none-any.whl size=19879 sha256=62e3f875c66af613131552751d4cf6013532e06bfdf6b4233c3eb96fc352a4f7\n",
            "  Stored in directory: /root/.cache/pip/wheels/5c/42/78/0c3d438d7f5730451a25f7ac6cbf4391759d22a67576ed7c2c\n",
            "Successfully built pyngrok\n",
            "Installing collected packages: pyngrok\n",
            "Successfully installed pyngrok-6.0.0\n",
            "Looking in indexes: https://pypi.org/simple, https://us-python.pkg.dev/colab-wheels/public/simple/\n",
            "Collecting flask_cors\n",
            "  Downloading Flask_Cors-3.0.10-py2.py3-none-any.whl (14 kB)\n",
            "Requirement already satisfied: Six in /usr/local/lib/python3.10/dist-packages (from flask_cors) (1.16.0)\n",
            "Requirement already satisfied: Flask>=0.9 in /usr/local/lib/python3.10/dist-packages (from flask_cors) (2.2.4)\n",
            "Requirement already satisfied: Werkzeug>=2.2.2 in /usr/local/lib/python3.10/dist-packages (from Flask>=0.9->flask_cors) (2.3.0)\n",
            "Requirement already satisfied: Jinja2>=3.0 in /usr/local/lib/python3.10/dist-packages (from Flask>=0.9->flask_cors) (3.1.2)\n",
            "Requirement already satisfied: click>=8.0 in /usr/local/lib/python3.10/dist-packages (from Flask>=0.9->flask_cors) (8.1.3)\n",
            "Requirement already satisfied: itsdangerous>=2.0 in /usr/local/lib/python3.10/dist-packages (from Flask>=0.9->flask_cors) (2.1.2)\n",
            "Requirement already satisfied: MarkupSafe>=2.0 in /usr/local/lib/python3.10/dist-packages (from Jinja2>=3.0->Flask>=0.9->flask_cors) (2.1.2)\n",
            "Installing collected packages: flask_cors\n",
            "Successfully installed flask_cors-3.0.10\n"
          ]
        }
      ],
      "source": [
        "from flask import Flask, request, jsonify\n",
        "import tensorflow as tf\n",
        "import pandas as pd\n",
        "!pip install pyngrok\n",
        "import numpy as np\n",
        "!pip install flask_cors\n",
        "from flask_cors import CORS\n",
        "from pyngrok import ngrok"
      ]
    },
    {
      "cell_type": "code",
      "execution_count": null,
      "metadata": {
        "colab": {
          "base_uri": "https://localhost:8080/"
        },
        "id": "Tz_Y7yQIGnfn",
        "outputId": "d453bdfa-2192-40a3-84ea-39cb7d3a76f4"
      },
      "outputs": [
        {
          "name": "stdout",
          "output_type": "stream",
          "text": [
            "Mounted at /content/drive\n"
          ]
        }
      ],
      "source": [
        "from google.colab import drive\n",
        "drive.mount('/content/drive')"
      ]
    },
    {
      "cell_type": "code",
      "execution_count": null,
      "metadata": {
        "id": "OxGBYZLNHCXa"
      },
      "outputs": [],
      "source": [
        "import os\n",
        "\n",
        "os.chdir('drive/MyDrive/Major Project/')\n",
        "path = ''"
      ]
    },
    {
      "cell_type": "code",
      "execution_count": null,
      "metadata": {
        "id": "PrJaKuqXHcMo"
      },
      "outputs": [],
      "source": [
        "model = tf.keras.models.load_model('my_resnet50_model.h5')\n"
      ]
    },
    {
      "cell_type": "code",
      "execution_count": null,
      "metadata": {
        "colab": {
          "base_uri": "https://localhost:8080/"
        },
        "id": "OnZC3wVed7dS",
        "outputId": "dcfbca67-1a86-46d9-8459-8c538c948d3f"
      },
      "outputs": [
        {
          "name": "stdout",
          "output_type": "stream",
          "text": [
            "Authtoken saved to configuration file: /root/.ngrok2/ngrok.yml\n"
          ]
        },
        {
          "name": "stderr",
          "output_type": "stream",
          "text": [
            "WARNING:pyngrok.process.ngrok:t=2023-05-06T03:50:44+0000 lvl=warn msg=\"ngrok config file found at legacy location, move to XDG location\" xdg_path=/root/.config/ngrok/ngrok.yml legacy_path=/root/.ngrok2/ngrok.yml\n"
          ]
        }
      ],
      "source": [
        "!ngrok config add-authtoken 2Ka4LuEh8lYla14AW6DjZZCsxdZ_6Lo3Ke8iP9yRQvHYS3PHa\n",
        "https_tunnel = ngrok.connect(bind_tls=True)"
      ]
    },
    {
      "cell_type": "code",
      "execution_count": null,
      "metadata": {
        "id": "rcagQDcUHo5J"
      },
      "outputs": [],
      "source": [
        "app = Flask(__name__)\n",
        "CORS(app)\n",
        "@app.route('/')\n",
        "def hello():\n",
        "    return 'This is a flask server hosting transfer learning model for classification of Arrhythmia'\n",
        "\n",
        "@app.route('/predict', methods=['POST'])\n",
        "def predict():\n",
        "    # Get the patient's CSV file from the request\n",
        "    patient_csv = request.files['file']\n",
        "    print(patient_csv)\n",
        "    # Load the CSV file back into a NumPy array\n",
        "    loaded_array = np.genfromtxt(patient_csv, delimiter=',')\n",
        "    print(loaded_array.shape)\n",
        "    # Reshape the loaded array to match the original shape\n",
        "    reloaded_array = loaded_array.reshape((1, 360, 1))\n",
        "    print(reloaded_array.shape)\n",
        "    # Predict the arrhythmia class using the ResNet50 model\n",
        "    prediction = model.predict(reloaded_array)\n",
        "    print(prediction)\n",
        "    true_prediction=[]\n",
        "    for element in prediction:\n",
        "        true_prediction.append(np.argmax(element))\n",
        "    print(true_prediction)\n",
        "    print('///////////////////////////////////////////////////////////')\n",
        "\n",
        "    # Convert the prediction to a class label\n",
        "    arrhythmia_class=\"\"\n",
        "    if true_prediction==[0]:\n",
        "      arrhythmia_class=\"N: Normal beat (normal rhythm of the heart)\"\n",
        "    elif true_prediction==[1]:\n",
        "      arrhythmia_class=\"S: Supraventricular premature beat (an early beat that arises from the atria or the AV node)\"\n",
        "    elif true_prediction==[2]:\n",
        "      arrhythmia_class=\"F: Fusion of ventricular and normal beat (a beat that has characteristics of both a normal beat and a ventricular premature beat)\"\n",
        "    elif true_prediction==[3]:\n",
        "      arrhythmia_class=\"V: Premature ventricular contraction (an early beat that arises from the ventricles)\"\n",
        "    elif true_prediction==[4]:\n",
        "      arrhythmia_class=\"Q: Unclassifiable beat (a beat that cannot be classified as any of the above categories)\"\n",
        "\n",
        "\n",
        "\n",
        "\n",
        "    # Return the predicted class label\n",
        "    return jsonify({\"arrhythmia class\": arrhythmia_class})"
      ]
    },
    {
      "cell_type": "code",
      "execution_count": null,
      "metadata": {
        "colab": {
          "background_save": true,
          "base_uri": "https://localhost:8080/"
        },
        "id": "5_99C3IrbN_8",
        "outputId": "646db4f7-2b44-43c2-82fa-2ff4594178b2"
      },
      "outputs": [
        {
          "name": "stdout",
          "output_type": "stream",
          "text": [
            "Flask app running at: NgrokTunnel: \"https://2a7a-34-80-226-243.ngrok-free.app\" -> \"http://localhost:80\"\n",
            " * Serving Flask app '__main__'\n",
            " * Debug mode: off\n"
          ]
        },
        {
          "name": "stderr",
          "output_type": "stream",
          "text": [
            "INFO:werkzeug:\u001b[31m\u001b[1mWARNING: This is a development server. Do not use it in a production deployment. Use a production WSGI server instead.\u001b[0m\n",
            " * Running on http://localhost:80\n",
            "INFO:werkzeug:\u001b[33mPress CTRL+C to quit\u001b[0m\n"
          ]
        },
        {
          "name": "stdout",
          "output_type": "stream",
          "text": [
            "<FileStorage: 'test_patient_1.csv' ('application/octet-stream')>\n",
            "(360,)\n",
            "(1, 360, 1)\n",
            "1/1 [==============================] - 3s 3s/step\n"
          ]
        },
        {
          "name": "stderr",
          "output_type": "stream",
          "text": [
            "INFO:werkzeug:127.0.0.1 - - [06/May/2023 04:34:31] \"POST /predict HTTP/1.1\" 200 -\n"
          ]
        },
        {
          "name": "stdout",
          "output_type": "stream",
          "text": [
            "[[9.0374672e-01 6.1314440e-06 1.2609958e-04 4.9952581e-05 9.6071035e-02]]\n",
            "[0]\n",
            "///////////////////////////////////////////////////////////\n",
            "<FileStorage: 'test_patient_2.csv' ('application/octet-stream')>\n",
            "(360,)\n",
            "(1, 360, 1)\n",
            "1/1 [==============================] - 0s 52ms/step\n"
          ]
        },
        {
          "name": "stderr",
          "output_type": "stream",
          "text": [
            "INFO:werkzeug:127.0.0.1 - - [06/May/2023 04:34:44] \"POST /predict HTTP/1.1\" 200 -\n"
          ]
        },
        {
          "name": "stdout",
          "output_type": "stream",
          "text": [
            "[[9.0478712e-01 8.8747092e-06 3.0292021e-04 8.1549464e-05 9.4819605e-02]]\n",
            "[0]\n",
            "///////////////////////////////////////////////////////////\n"
          ]
        }
      ],
      "source": [
        "\n",
        "if __name__ == '__main__':\n",
        "    app_url = ngrok.connect(addr=80, proto='http')\n",
        "    print(f'Flask app running at: {app_url}')\n",
        "    app.run(host='localhost', port=80)\n"
      ]
    }
  ],
  "metadata": {
    "colab": {
      "provenance": []
    },
    "kernelspec": {
      "display_name": "Python 3",
      "name": "python3"
    },
    "language_info": {
      "name": "python"
    }
  },
  "nbformat": 4,
  "nbformat_minor": 0
}